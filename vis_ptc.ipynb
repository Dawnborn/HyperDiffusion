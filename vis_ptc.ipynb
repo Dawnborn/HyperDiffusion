{
 "cells": [
  {
   "cell_type": "code",
   "execution_count": null,
   "metadata": {},
   "outputs": [],
   "source": [
    "import numpy as np\n",
    "import matplotlib.pyplot as plt\n",
    "from mpl_toolkits.mplot3d import Axes3D\n",
    "\n",
    "# from mesh_to_sdf import get_surface_point_cloud,scale_to_unit_cube, scale_to_unit_sphere, BadMeshException, sample_sdf_near_surface\n",
    "\n",
    "def vis_sdf(data):\n",
    "    # 获取xyz坐标和sdf值\n",
    "    x = data[:, 0]\n",
    "    y = data[:, 1]\n",
    "    z = data[:, 2]\n",
    "    sdf_values = data[:, 3]\n",
    "\n",
    "    threshold = 1\n",
    "\n",
    "    x = x[sdf_values<threshold]\n",
    "    y = y[sdf_values<threshold]\n",
    "    z = z[sdf_values<threshold]\n",
    "\n",
    "    sdf_values = sdf_values[sdf_values<threshold]\n",
    "\n",
    "    # 创建一个新的3D图形\n",
    "    fig = plt.figure()\n",
    "    ax = fig.add_subplot(121, projection='3d')\n",
    "    ax2 = fig.add_subplot(122)\n",
    "    ax2.hist(sdf_values)\n",
    "\n",
    "    # 使用SDF值作为颜色映射\n",
    "    scatter = ax.scatter(x, y, z, c=sdf_values, cmap='viridis')\n",
    "    plt.colorbar(scatter, ax=ax, label='SDF Value')\n",
    "\n",
    "    ax.set_xlabel('X Label')\n",
    "    ax.set_ylabel('Y Label')\n",
    "    ax.set_zlabel('Z Label')\n",
    "    plt.title('SDF Visualization')\n",
    "    plt.show()\n",
    "\n",
    "if __name__ == \"__main__\":\n",
    "    raw = np.load(\"data/SdfSamples/ShapeNetV2/04256520/1a04dcce7027357ab540cc4083acfa57.npz\")\n",
    "    data = raw['pos']\n",
    "    vis_sdf(data)\n",
    "\n"
   ]
  },
  {
   "cell_type": "code",
   "execution_count": 1,
   "metadata": {},
   "outputs": [],
   "source": [
    "import numpy as np\n",
    "raw = np.load(\"/data/hdd1/storage/junpeng/ws_dditplus/HyperDiffusion/data/02691156_2048_pc/1a04e3eab45ca15dd86060f189eb133.obj.npy\")"
   ]
  },
  {
   "cell_type": "code",
   "execution_count": 4,
   "metadata": {},
   "outputs": [
    {
     "data": {
      "text/plain": [
       "(2048, 6)"
      ]
     },
     "execution_count": 4,
     "metadata": {},
     "output_type": "execute_result"
    }
   ],
   "source": [
    "raw.shape"
   ]
  }
 ],
 "metadata": {
  "kernelspec": {
   "display_name": "hyper-diffusion",
   "language": "python",
   "name": "python3"
  },
  "language_info": {
   "codemirror_mode": {
    "name": "ipython",
    "version": 3
   },
   "file_extension": ".py",
   "mimetype": "text/x-python",
   "name": "python",
   "nbconvert_exporter": "python",
   "pygments_lexer": "ipython3",
   "version": "3.7.16"
  },
  "orig_nbformat": 4
 },
 "nbformat": 4,
 "nbformat_minor": 2
}
